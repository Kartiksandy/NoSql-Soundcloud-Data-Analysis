{
 "cells": [
  {
   "cell_type": "markdown",
   "metadata": {},
   "source": [
    "## Model Data using Cassandra\n",
    "\n",
    "\n",
    "### Please just submit this notebook in the Submission and make sure each cell has been executed and output is clearly displayed.\n",
    "\n",
    "### The aim of the project is to solve the three queries given below."
   ]
  },
  {
   "cell_type": "markdown",
   "metadata": {},
   "source": [
    "### Introduction\n",
    "\n",
    "There is a music streaming app called SoundCloud, that has been using their music streaming app and collecting data on songs and user activity and their aim is to analyze this data especially understanding what songs users are listening to. Currently, they are not making use of a NoSQL db and they have the data stored as a CSV file, thus its difficult for them to query the data. So our task is to create a NoSQL database for helping them with the analysis."
   ]
  },
  {
   "cell_type": "markdown",
   "metadata": {},
   "source": [
    "#### Import Packages "
   ]
  },
  {
   "cell_type": "code",
   "execution_count": 21,
   "metadata": {},
   "outputs": [],
   "source": [
    "import pandas as pd\n",
    "import numpy as np\n",
    "import cassandra\n",
    "import csv"
   ]
  },
  {
   "cell_type": "markdown",
   "metadata": {},
   "source": [
    "\n",
    "##  The image below is a screenshot of what the data appears like in the event_data.csv\n",
    "\n",
    "<img src=\"event_data_image.jpg\">"
   ]
  },
  {
   "cell_type": "markdown",
   "metadata": {},
   "source": [
    "#### Creating a Cluster"
   ]
  },
  {
   "cell_type": "code",
   "execution_count": 23,
   "metadata": {},
   "outputs": [],
   "source": [
    "from cassandra.cluster import Cluster\n",
    "cluster = Cluster(['127.0.0.1'])\n",
    "session = cluster.connect()"
   ]
  },
  {
   "cell_type": "markdown",
   "metadata": {},
   "source": [
    "#### Create & Set Keyspace"
   ]
  },
  {
   "cell_type": "code",
   "execution_count": 24,
   "metadata": {},
   "outputs": [
    {
     "name": "stdout",
     "output_type": "stream",
     "text": [
      "Keyspace created successfully.\n",
      "Keyspace set successfully for the session.\n"
     ]
    }
   ],
   "source": [
    "\n",
    "# Create a keyspace with the CQL query\n",
    "create_keyspace_query = \"\"\"\n",
    "CREATE KEYSPACE IF NOT EXISTS mykeyspace\n",
    "WITH replication = {'class': 'SimpleStrategy', 'replication_factor': 3};\n",
    "\"\"\"\n",
    "session.execute(create_keyspace_query)\n",
    "print(\"Keyspace created successfully.\")\n",
    "\n",
    "# Set the keyspace for the session\n",
    "session.set_keyspace('mykeyspace')\n",
    "print(\"Keyspace set successfully for the session.\")"
   ]
  },
  {
   "cell_type": "markdown",
   "metadata": {},
   "source": [
    "## List of Queries \n",
    "\n",
    "### 1. Find the artist_name, song_title and length of song the SoundCloud app history that was heard during  session_number = 338, and item_in_session_number  = 4\n",
    "\n",
    "\n",
    "### 2. Find the artist_name, song_title (sorted by item_in_session_number) and name(fname and lname) of the user for user_id = 10, session_number = 182\n",
    "    \n",
    "\n",
    "### 3. Find every name(fname and lname) of the user from the SoundCloud app history that listened to the song_title 'All Hands Against His Own'\n",
    "\n",
    "\n"
   ]
  },
  {
   "cell_type": "markdown",
   "metadata": {},
   "source": [
    "### Query1 Table1: How should we model this data? Think about what should be our Primary Key/Partition Key/Clustering Key"
   ]
  },
  {
   "cell_type": "markdown",
   "metadata": {},
   "source": [
    "## Query 1"
   ]
  },
  {
   "cell_type": "code",
   "execution_count": 25,
   "metadata": {},
   "outputs": [
    {
     "data": {
      "text/plain": [
       "<cassandra.cluster.ResultSet at 0x14001aa50>"
      ]
     },
     "execution_count": 25,
     "metadata": {},
     "output_type": "execute_result"
    }
   ],
   "source": [
    "create_table_query = \"\"\"\n",
    "CREATE TABLE IF NOT EXISTS song_play_history (\n",
    "    session_number int,\n",
    "    item_in_session_number int,\n",
    "    artist_name text,\n",
    "    song_title text,\n",
    "    song_length float,\n",
    "    PRIMARY KEY (session_number, item_in_session_number)\n",
    ");\n",
    "\"\"\"\n",
    "session.execute(create_table_query)"
   ]
  },
  {
   "cell_type": "code",
   "execution_count": 33,
   "metadata": {},
   "outputs": [
    {
     "data": {
      "text/plain": [
       "<cassandra.cluster.ResultSet at 0x1400ee990>"
      ]
     },
     "execution_count": 33,
     "metadata": {},
     "output_type": "execute_result"
    }
   ],
   "source": [
    "create_song_history_table_query = \"\"\"\n",
    "CREATE TABLE IF NOT EXISTS song_playback_history (\n",
    "    session_id int,\n",
    "    item_in_session int,\n",
    "    artist text,\n",
    "    title text,\n",
    "    length float,\n",
    "    PRIMARY KEY (session_id, item_in_session)\n",
    ");\n",
    "\"\"\"\n",
    "session.execute(create_song_history_table_query)"
   ]
  },
  {
   "cell_type": "markdown",
   "metadata": {},
   "source": [
    "### Let's insert our data into of table"
   ]
  },
  {
   "cell_type": "code",
   "execution_count": 37,
   "metadata": {},
   "outputs": [],
   "source": [
    "file_name = 'event_data.csv'\n",
    "with open(file_name, encoding='utf8') as f:\n",
    "    csv_reader = csv.reader(f)\n",
    "    next(csv_reader)  # Skip the header\n",
    "    for row in csv_reader:\n",
    "        insert_query = \"\"\"\n",
    "        INSERT INTO song_play_history (session_number, item_in_session_number, artist_name, song_title, song_length)\n",
    "        VALUES (%s, %s, %s, %s, %s)\n",
    "        \"\"\"\n",
    "        # Adjusting indices based on the CSV structure provided\n",
    "        try:\n",
    "            session.execute(insert_query, (int(row[8]), int(row[3]), row[0], row[9], float(row[5])))\n",
    "        except ValueError as e:\n",
    "            print(f\"Error processing row {row}: {e}\")"
   ]
  },
  {
   "cell_type": "markdown",
   "metadata": {},
   "source": [
    "### Validate our Data Model using a SELECT"
   ]
  },
  {
   "cell_type": "code",
   "execution_count": 38,
   "metadata": {},
   "outputs": [
    {
     "name": "stdout",
     "output_type": "stream",
     "text": [
      "Faithless Music Matters (Mark Knight Dub) 495.30731201171875\n"
     ]
    }
   ],
   "source": [
    "select_query = \"\"\"\n",
    "SELECT artist_name, song_title, song_length\n",
    "FROM song_play_history\n",
    "WHERE session_number = 338 AND item_in_session_number = 4;\n",
    "\"\"\"\n",
    "rows = session.execute(select_query)\n",
    "for row in rows:\n",
    "    print(row.artist_name, row.song_title, row.song_length)"
   ]
  },
  {
   "cell_type": "markdown",
   "metadata": {},
   "source": [
    "### Query2 Table2: How should we model this data? Think about what should be our Primary Key/Partition Key/Clustering Key "
   ]
  },
  {
   "cell_type": "code",
   "execution_count": 39,
   "metadata": {},
   "outputs": [
    {
     "data": {
      "text/plain": [
       "<cassandra.cluster.ResultSet at 0x11ffc1250>"
      ]
     },
     "execution_count": 39,
     "metadata": {},
     "output_type": "execute_result"
    }
   ],
   "source": [
    "create_table_query = \"\"\"\n",
    "CREATE TABLE IF NOT EXISTS user_session_songs (\n",
    "    user_id int,\n",
    "    session_number int,\n",
    "    item_in_session_number int,\n",
    "    artist_name text,\n",
    "    song_title text,\n",
    "    user_fname text,\n",
    "    user_lname text,\n",
    "    PRIMARY KEY ((user_id, session_number), item_in_session_number)\n",
    ") WITH CLUSTERING ORDER BY (item_in_session_number ASC);\n",
    "\"\"\"\n",
    "session.execute(create_table_query)"
   ]
  },
  {
   "cell_type": "markdown",
   "metadata": {},
   "source": [
    "### Let's insert our data into of table"
   ]
  },
  {
   "cell_type": "code",
   "execution_count": 40,
   "metadata": {},
   "outputs": [],
   "source": [
    "file_name = 'event_data.csv'\n",
    "\n",
    "with open(file_name, encoding='utf8') as f:\n",
    "    csv_reader = csv.reader(f)\n",
    "    next(csv_reader)  # Fix typo here to correctly skip the header\n",
    "    \n",
    "    for row in csv_reader:\n",
    "        query = \"\"\"\n",
    "        INSERT INTO user_session_songs (user_id, session_number, item_in_session_number, artist_name, song_title, user_fname, user_lname)\n",
    "        VALUES (%s, %s, %s, %s, %s, %s, %s)\n",
    "        \"\"\"\n",
    "        # Adjust indices according to your CSV. Example uses placeholders.\n",
    "        session.execute(query, (int(row[10]), int(row[8]), int(row[3]), row[0], row[9], row[1], row[4]))"
   ]
  },
  {
   "cell_type": "markdown",
   "metadata": {},
   "source": [
    "### Validate our Data Model using a SELECT"
   ]
  },
  {
   "cell_type": "code",
   "execution_count": 11,
   "metadata": {},
   "outputs": [
    {
     "name": "stdout",
     "output_type": "stream",
     "text": [
      "Artist Name: Down To The Bone, Song Title: Keep On Keepin' On, User Name: Sylvie Cruz\n",
      "Artist Name: Three Drives, Song Title: Greece 2000, User Name: Sylvie Cruz\n",
      "Artist Name: Sebastien Tellier, Song Title: Kilometer, User Name: Sylvie Cruz\n",
      "Artist Name: Lonnie Gordon, Song Title: Catch You Baby (Steve Pitron & Max Sanna Radio Edit), User Name: Sylvie Cruz\n"
     ]
    }
   ],
   "source": [
    "query = \"\"\"\n",
    "SELECT artist_name, song_title, user_fname, user_lname\n",
    "FROM user_session_songs\n",
    "WHERE user_id = 10 AND session_number = 182\n",
    "\"\"\"\n",
    "\n",
    "try:\n",
    "    rows = session.execute(query)\n",
    "    for row in rows:\n",
    "        print(f\"Artist Name: {row.artist_name}, Song Title: {row.song_title}, User Name: {row.user_fname} {row.user_lname}\")\n",
    "except Exception as e:\n",
    "    print(f\"An error occurred: {e}\")"
   ]
  },
  {
   "cell_type": "markdown",
   "metadata": {},
   "source": [
    "### Query3 Table3: How should we model this data? Think about what should be our Primary Key/Partition Key/Clustering Key"
   ]
  },
  {
   "cell_type": "code",
   "execution_count": 12,
   "metadata": {},
   "outputs": [
    {
     "data": {
      "text/plain": [
       "<cassandra.cluster.ResultSet at 0x10b7d7150>"
      ]
     },
     "execution_count": 12,
     "metadata": {},
     "output_type": "execute_result"
    }
   ],
   "source": [
    "create_table_query = \"\"\"\n",
    "CREATE TABLE IF NOT EXISTS song_listened_by_user (\n",
    "    song_title text,\n",
    "    user_id int,\n",
    "    user_fname text,\n",
    "    user_lname text,\n",
    "    PRIMARY KEY (song_title, user_id)\n",
    ");\n",
    "\"\"\"\n",
    "session.execute(create_table_query)"
   ]
  },
  {
   "cell_type": "markdown",
   "metadata": {},
   "source": [
    "### Let's insert our data into of table"
   ]
  },
  {
   "cell_type": "code",
   "execution_count": 13,
   "metadata": {},
   "outputs": [],
   "source": [
    "file_name = 'event_data.csv'\n",
    "\n",
    "# Correcting the typo in 'csvreader' to 'csv_reader' and ensuring proper variable usage\n",
    "with open(file_name, encoding='utf8') as f:\n",
    "    csv_reader = csv.reader(f)\n",
    "    next(csv_reader)  # Skip the header in the CSV file\n",
    "    for row in csv_reader:\n",
    "        query = \"\"\"\n",
    "        INSERT INTO song_listened_by_user (song_title, user_id, user_fname, user_lname)\n",
    "        VALUES (%s, %s, %s, %s)\n",
    "        \"\"\"\n",
    "        # Replace the row indices with the correct ones according to your CSV structure\n",
    "        # Assuming the columns for song_title, user_id, user_fname, and user_lname are in correct order\n",
    "        session.execute(query, (row[9], int(row[10]), row[1], row[4]))"
   ]
  },
  {
   "cell_type": "markdown",
   "metadata": {},
   "source": [
    "### Validate our Data Model using a SELECT"
   ]
  },
  {
   "cell_type": "code",
   "execution_count": 14,
   "metadata": {},
   "outputs": [
    {
     "name": "stdout",
     "output_type": "stream",
     "text": [
      "Jacqueline Lynch\n",
      "Tegan Levine\n",
      "Sara Johnson\n"
     ]
    }
   ],
   "source": [
    "query = \"SELECT user_fname, user_lname FROM song_listened_by_user WHERE song_title = 'All Hands Against His Own';\"\n",
    "rows = session.execute(query)\n",
    "for row in rows:\n",
    "    print(f\"{row.user_fname} {row.user_lname}\")"
   ]
  },
  {
   "cell_type": "markdown",
   "metadata": {},
   "source": [
    "### Drop the tables before closing out the sessions"
   ]
  },
  {
   "cell_type": "code",
   "execution_count": 15,
   "metadata": {},
   "outputs": [
    {
     "name": "stdout",
     "output_type": "stream",
     "text": [
      "Table 'song_play_history' dropped successfully.\n",
      "Table 'user_session_songs' dropped successfully.\n",
      "Table 'song_listened_by_user' dropped successfully.\n"
     ]
    }
   ],
   "source": [
    "try:\n",
    "    session.execute(\"DROP TABLE IF EXISTS song_play_history;\")\n",
    "    print(\"Table 'song_play_history' dropped successfully.\")\n",
    "except Exception as e:\n",
    "    print(f\"Error dropping table 'song_play_history': {e}\")\n",
    "\n",
    "try:\n",
    "    session.execute(\"DROP TABLE IF EXISTS user_session_songs;\")\n",
    "    print(\"Table 'user_session_songs' dropped successfully.\")\n",
    "except Exception as e:\n",
    "    print(f\"Error dropping table 'user_session_songs': {e}\")\n",
    "\n",
    "try:\n",
    "    session.execute(\"DROP TABLE IF EXISTS song_listened_by_user;\")\n",
    "    print(\"Table 'song_listened_by_user' dropped successfully.\")\n",
    "except Exception as e:\n",
    "    print(f\"Error dropping table 'song_listened_by_user': {e}\")"
   ]
  },
  {
   "cell_type": "markdown",
   "metadata": {},
   "source": [
    "### Close the session and cluster connection¶"
   ]
  },
  {
   "cell_type": "code",
   "execution_count": 16,
   "metadata": {},
   "outputs": [],
   "source": [
    "session.shutdown()\n",
    "cluster.shutdown()"
   ]
  },
  {
   "cell_type": "code",
   "execution_count": null,
   "metadata": {},
   "outputs": [],
   "source": []
  }
 ],
 "metadata": {
  "kernelspec": {
   "display_name": "Python 3 (ipykernel)",
   "language": "python",
   "name": "python3"
  },
  "language_info": {
   "codemirror_mode": {
    "name": "ipython",
    "version": 3
   },
   "file_extension": ".py",
   "mimetype": "text/x-python",
   "name": "python",
   "nbconvert_exporter": "python",
   "pygments_lexer": "ipython3",
   "version": "3.11.8"
  }
 },
 "nbformat": 4,
 "nbformat_minor": 4
}
